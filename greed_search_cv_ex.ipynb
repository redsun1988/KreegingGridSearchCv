{
 "cells": [
  {
   "cell_type": "code",
   "execution_count": 14,
   "id": "2093fb83-f33e-4e6a-a653-0e67f96133a1",
   "metadata": {
    "scrolled": true
   },
   "outputs": [],
   "source": [
    "import pandas as pd\n",
    "import geopandas as gpd\n",
    "\n",
    "data = gpd.read_file('data.geojson', driver='GeoJSON')\n",
    "\n",
    "y = data[\"price\"]\n",
    "X = data.drop(columns=[\"price\"])"
   ]
  },
  {
   "cell_type": "code",
   "execution_count": 81,
   "id": "2f1db962-bb81-41c0-b9c2-871c759c2107",
   "metadata": {},
   "outputs": [
    {
     "name": "stderr",
     "output_type": "stream",
     "text": [
      "C:\\Users\\redsu\\anaconda3\\envs\\spatial_analysis_course\\lib\\site-packages\\sklearn\\model_selection\\_search.py:976: UserWarning: One or more of the test scores are non-finite: [       nan        nan 0.25332626 0.25332626 0.39103697 0.39103697\n",
      " 0.25332626 0.25332626 0.43771448 0.43771448 0.25332626 0.25332626\n",
      " 0.40562219 0.40562219 0.25332626 0.25332626        nan        nan\n",
      " 0.27805219 0.27805219 0.4178725  0.4178725  0.27805219 0.27805219\n",
      " 0.46013047 0.46013047 0.27805219 0.27805219 0.43015204 0.43015204\n",
      " 0.27805219 0.27805219        nan        nan 0.2834643  0.2834643\n",
      " 0.41785561 0.41785561 0.2834643  0.2834643  0.45986066 0.45986066\n",
      " 0.2834643  0.2834643  0.42941985 0.42941985 0.2834643  0.2834643 ]\n",
      "  warnings.warn(\n",
      "C:\\Users\\redsu\\anaconda3\\envs\\spatial_analysis_course\\lib\\site-packages\\libpysal\\weights\\weights.py:172: UserWarning: The weights matrix is not fully connected: \n",
      " There are 6 disconnected components.\n",
      "  warnings.warn(message)\n"
     ]
    },
    {
     "data": {
      "text/plain": [
       "0.4601304708174558"
      ]
     },
     "execution_count": 81,
     "metadata": {},
     "output_type": "execute_result"
    }
   ],
   "source": [
    "from sklearn.preprocessing import OneHotEncoder, StandardScaler, TargetEncoder, QuantileTransformer\n",
    "from sklearn.model_selection import train_test_split, GridSearchCV\n",
    "from sklearn.feature_selection import mutual_info_regression\n",
    "from krigeExtrenstions import ErrorKrigeRegressionAdapter\n",
    "from sklearn.feature_selection import SelectPercentile\n",
    "from sklearn.ensemble import RandomForestRegressor\n",
    "from sklearn.compose import ColumnTransformer\n",
    "from sklearn.impute import SimpleImputer\n",
    "from sklearn.pipeline import Pipeline\n",
    "\n",
    "numeric_features = [\n",
    "    \"floor\", \"floors_count\", \"rooms_count\", \"total_meters\", \"living_meters\", \"kitchen_meters\"\n",
    "]\n",
    "categorical_features = [\n",
    "    'year_of_construction', 'object_type', 'house_material_type', 'heating_type', 'finish_type'\n",
    "]\n",
    "\n",
    "basic_regressor = Pipeline(\n",
    "    memory=\"test\",\n",
    "    steps=[\n",
    "        (\n",
    "            \"preprocessor\", \n",
    "            ColumnTransformer(\n",
    "                transformers=[\n",
    "                    (\n",
    "                        \"nums\", \n",
    "                        Pipeline(steps=[\n",
    "                            (\"imputer\", SimpleImputer(strategy=\"median\", add_indicator=True)), \n",
    "                            (\"scaler\", StandardScaler()),\n",
    "                        ]), \n",
    "                        numeric_features\n",
    "                    ),\n",
    "                    (\n",
    "                        \"cat_one_hot\", \n",
    "                        Pipeline(steps=[\n",
    "                            (\"encoder\", OneHotEncoder(handle_unknown=\"ignore\")),\n",
    "                        ]), \n",
    "                        categorical_features\n",
    "                    ),\n",
    "                    (\n",
    "                        \"cat_mean\", \n",
    "                        Pipeline(steps=[\n",
    "                            (\"encoder\", TargetEncoder(target_type=\"continuous\")),\n",
    "                        ]), \n",
    "                        categorical_features\n",
    "                    )\n",
    "                ]\n",
    "            )\n",
    "        ),\n",
    "        (\"selector\", SelectPercentile(mutual_info_regression, percentile=90)),\n",
    "        ('reg', RandomForestRegressor(random_state=0))\n",
    "    ]\n",
    ")\n",
    "krigeAdapter = ErrorKrigeRegressionAdapter(basic_regressor)\n",
    "\n",
    "basic_param_grid = [{\n",
    "    \"basic_regressor__reg__n_estimators\": [150, 300, 450],\n",
    "#     \"basic_regressor__selector__percentile\": [92, 94, 96, 98, 100],\n",
    "    'moranThreshold': [0.1, 0.5],\n",
    "    'krige__n_closest_points': [1, 2, 3, 5],\n",
    "    'weightsParams': [{'type': 'knn', 'k': 5}, {'type': 'knn', 'k': 4}]\n",
    "}]\n",
    "\n",
    "estimator = GridSearchCV(krigeAdapter, basic_param_grid, cv=5, n_jobs=-1)\n",
    "estimator.fit(X, y)\n",
    "estimator.best_score_"
   ]
  },
  {
   "cell_type": "code",
   "execution_count": 82,
   "id": "8b610e13-c128-404f-872d-01f917ce652a",
   "metadata": {},
   "outputs": [
    {
     "data": {
      "text/plain": [
       "{'basic_regressor__reg__n_estimators': 300,\n",
       " 'krige__n_closest_points': 3,\n",
       " 'moranThreshold': 0.1,\n",
       " 'weightsParams': {'type': 'knn', 'k': 5}}"
      ]
     },
     "execution_count": 82,
     "metadata": {},
     "output_type": "execute_result"
    }
   ],
   "source": [
    "estimator.best_params_"
   ]
  }
 ],
 "metadata": {
  "kernelspec": {
   "display_name": "Python3.10 (spatial_analysis_course)",
   "language": "python",
   "name": "spatial_analysis_course"
  },
  "language_info": {
   "codemirror_mode": {
    "name": "ipython",
    "version": 3
   },
   "file_extension": ".py",
   "mimetype": "text/x-python",
   "name": "python",
   "nbconvert_exporter": "python",
   "pygments_lexer": "ipython3",
   "version": "3.10.12"
  }
 },
 "nbformat": 4,
 "nbformat_minor": 5
}
